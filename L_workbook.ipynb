{
 "cells": [
  {
   "cell_type": "code",
   "execution_count": 1,
   "metadata": {
    "collapsed": true
   },
   "outputs": [],
   "source": [
    "import pandas as pd\n",
    "import matplotlib.pyplot as plt\n",
    "%matplotlib inline"
   ]
  },
  {
   "cell_type": "markdown",
   "metadata": {},
   "source": [
    "### Datasets\n",
    "https://data.cityofchicago.org/Transportation/CTA-Ridership-L-Station-Entries-Daily-Totals/5neh-572f/data\n",
    "___\n",
    "https://data.cityofchicago.org/Transportation/CTA-System-Information-List-of-L-Stops/8pix-ypme/data\n",
    "___\n"
   ]
  },
  {
   "cell_type": "code",
   "execution_count": 2,
   "metadata": {
    "collapsed": true
   },
   "outputs": [],
   "source": [
    "# Lets start by exploring the data\n",
    "df = pd.read_csv(\"CTA_L_Ridership.csv\")"
   ]
  },
  {
   "cell_type": "code",
   "execution_count": 3,
   "metadata": {},
   "outputs": [
    {
     "data": {
      "text/html": [
       "<div>\n",
       "<style>\n",
       "    .dataframe thead tr:only-child th {\n",
       "        text-align: right;\n",
       "    }\n",
       "\n",
       "    .dataframe thead th {\n",
       "        text-align: left;\n",
       "    }\n",
       "\n",
       "    .dataframe tbody tr th {\n",
       "        vertical-align: top;\n",
       "    }\n",
       "</style>\n",
       "<table border=\"1\" class=\"dataframe\">\n",
       "  <thead>\n",
       "    <tr style=\"text-align: right;\">\n",
       "      <th></th>\n",
       "      <th>station_id</th>\n",
       "      <th>stationname</th>\n",
       "      <th>date</th>\n",
       "      <th>daytype</th>\n",
       "      <th>rides</th>\n",
       "    </tr>\n",
       "  </thead>\n",
       "  <tbody>\n",
       "    <tr>\n",
       "      <th>0</th>\n",
       "      <td>40010</td>\n",
       "      <td>Austin-Forest Park</td>\n",
       "      <td>01/01/2001</td>\n",
       "      <td>U</td>\n",
       "      <td>290</td>\n",
       "    </tr>\n",
       "    <tr>\n",
       "      <th>1</th>\n",
       "      <td>40020</td>\n",
       "      <td>Harlem-Lake</td>\n",
       "      <td>01/01/2001</td>\n",
       "      <td>U</td>\n",
       "      <td>633</td>\n",
       "    </tr>\n",
       "    <tr>\n",
       "      <th>2</th>\n",
       "      <td>40030</td>\n",
       "      <td>Pulaski-Lake</td>\n",
       "      <td>01/01/2001</td>\n",
       "      <td>U</td>\n",
       "      <td>483</td>\n",
       "    </tr>\n",
       "    <tr>\n",
       "      <th>3</th>\n",
       "      <td>40040</td>\n",
       "      <td>Quincy/Wells</td>\n",
       "      <td>01/01/2001</td>\n",
       "      <td>U</td>\n",
       "      <td>374</td>\n",
       "    </tr>\n",
       "    <tr>\n",
       "      <th>4</th>\n",
       "      <td>40050</td>\n",
       "      <td>Davis</td>\n",
       "      <td>01/01/2001</td>\n",
       "      <td>U</td>\n",
       "      <td>804</td>\n",
       "    </tr>\n",
       "  </tbody>\n",
       "</table>\n",
       "</div>"
      ],
      "text/plain": [
       "   station_id         stationname        date daytype  rides\n",
       "0       40010  Austin-Forest Park  01/01/2001       U    290\n",
       "1       40020         Harlem-Lake  01/01/2001       U    633\n",
       "2       40030        Pulaski-Lake  01/01/2001       U    483\n",
       "3       40040        Quincy/Wells  01/01/2001       U    374\n",
       "4       40050               Davis  01/01/2001       U    804"
      ]
     },
     "execution_count": 3,
     "metadata": {},
     "output_type": "execute_result"
    }
   ],
   "source": [
    "df.head()"
   ]
  },
  {
   "cell_type": "code",
   "execution_count": 4,
   "metadata": {},
   "outputs": [
    {
     "data": {
      "text/plain": [
       "(879576, 5)"
      ]
     },
     "execution_count": 4,
     "metadata": {},
     "output_type": "execute_result"
    }
   ],
   "source": [
    "df.shape"
   ]
  },
  {
   "cell_type": "markdown",
   "metadata": {},
   "source": [
    "So the data looks like how it was described from the Data Portal"
   ]
  },
  {
   "cell_type": "code",
   "execution_count": 5,
   "metadata": {},
   "outputs": [
    {
     "data": {
      "text/plain": [
       "False"
      ]
     },
     "execution_count": 5,
     "metadata": {},
     "output_type": "execute_result"
    }
   ],
   "source": [
    "# Check for null values\n",
    "df.isnull().values.any()"
   ]
  },
  {
   "cell_type": "code",
   "execution_count": 6,
   "metadata": {
    "collapsed": true
   },
   "outputs": [],
   "source": [
    "df_avg = df.groupby('station_id')['stationname', 'rides'].mean()\n",
    "    "
   ]
  },
  {
   "cell_type": "code",
   "execution_count": 7,
   "metadata": {
    "collapsed": true
   },
   "outputs": [],
   "source": [
    "df_avg.reset_index(inplace=True)"
   ]
  },
  {
   "cell_type": "code",
   "execution_count": 8,
   "metadata": {},
   "outputs": [
    {
     "data": {
      "text/html": [
       "<div>\n",
       "<style>\n",
       "    .dataframe thead tr:only-child th {\n",
       "        text-align: right;\n",
       "    }\n",
       "\n",
       "    .dataframe thead th {\n",
       "        text-align: left;\n",
       "    }\n",
       "\n",
       "    .dataframe tbody tr th {\n",
       "        vertical-align: top;\n",
       "    }\n",
       "</style>\n",
       "<table border=\"1\" class=\"dataframe\">\n",
       "  <thead>\n",
       "    <tr style=\"text-align: right;\">\n",
       "      <th></th>\n",
       "      <th>station_id</th>\n",
       "      <th>rides</th>\n",
       "    </tr>\n",
       "  </thead>\n",
       "  <tbody>\n",
       "    <tr>\n",
       "      <th>0</th>\n",
       "      <td>40010</td>\n",
       "      <td>1536.416437</td>\n",
       "    </tr>\n",
       "    <tr>\n",
       "      <th>1</th>\n",
       "      <td>40020</td>\n",
       "      <td>3094.157282</td>\n",
       "    </tr>\n",
       "    <tr>\n",
       "      <th>2</th>\n",
       "      <td>40030</td>\n",
       "      <td>1436.182215</td>\n",
       "    </tr>\n",
       "    <tr>\n",
       "      <th>3</th>\n",
       "      <td>40040</td>\n",
       "      <td>5624.562288</td>\n",
       "    </tr>\n",
       "    <tr>\n",
       "      <th>4</th>\n",
       "      <td>40050</td>\n",
       "      <td>3321.967956</td>\n",
       "    </tr>\n",
       "  </tbody>\n",
       "</table>\n",
       "</div>"
      ],
      "text/plain": [
       "   station_id        rides\n",
       "0       40010  1536.416437\n",
       "1       40020  3094.157282\n",
       "2       40030  1436.182215\n",
       "3       40040  5624.562288\n",
       "4       40050  3321.967956"
      ]
     },
     "execution_count": 8,
     "metadata": {},
     "output_type": "execute_result"
    }
   ],
   "source": [
    "df_avg.head()"
   ]
  },
  {
   "cell_type": "code",
   "execution_count": 9,
   "metadata": {},
   "outputs": [
    {
     "data": {
      "text/html": [
       "<div>\n",
       "<style>\n",
       "    .dataframe thead tr:only-child th {\n",
       "        text-align: right;\n",
       "    }\n",
       "\n",
       "    .dataframe thead th {\n",
       "        text-align: left;\n",
       "    }\n",
       "\n",
       "    .dataframe tbody tr th {\n",
       "        vertical-align: top;\n",
       "    }\n",
       "</style>\n",
       "<table border=\"1\" class=\"dataframe\">\n",
       "  <thead>\n",
       "    <tr style=\"text-align: right;\">\n",
       "      <th></th>\n",
       "      <th>station_id</th>\n",
       "      <th>rides</th>\n",
       "    </tr>\n",
       "  </thead>\n",
       "  <tbody>\n",
       "    <tr>\n",
       "      <th>36</th>\n",
       "      <td>40380</td>\n",
       "      <td>13829.990290</td>\n",
       "    </tr>\n",
       "    <tr>\n",
       "      <th>142</th>\n",
       "      <td>41660</td>\n",
       "      <td>13597.645469</td>\n",
       "    </tr>\n",
       "    <tr>\n",
       "      <th>135</th>\n",
       "      <td>41450</td>\n",
       "      <td>12980.024603</td>\n",
       "    </tr>\n",
       "  </tbody>\n",
       "</table>\n",
       "</div>"
      ],
      "text/plain": [
       "     station_id         rides\n",
       "36        40380  13829.990290\n",
       "142       41660  13597.645469\n",
       "135       41450  12980.024603"
      ]
     },
     "execution_count": 9,
     "metadata": {},
     "output_type": "execute_result"
    }
   ],
   "source": [
    "df_avg.sort_values('rides', ascending=False).head(3)"
   ]
  },
  {
   "cell_type": "code",
   "execution_count": 10,
   "metadata": {},
   "outputs": [
    {
     "data": {
      "text/html": [
       "<div>\n",
       "<style>\n",
       "    .dataframe thead tr:only-child th {\n",
       "        text-align: right;\n",
       "    }\n",
       "\n",
       "    .dataframe thead th {\n",
       "        text-align: left;\n",
       "    }\n",
       "\n",
       "    .dataframe tbody tr th {\n",
       "        vertical-align: top;\n",
       "    }\n",
       "</style>\n",
       "<table border=\"1\" class=\"dataframe\">\n",
       "  <thead>\n",
       "    <tr style=\"text-align: right;\">\n",
       "      <th></th>\n",
       "      <th>station_id</th>\n",
       "      <th>stationname</th>\n",
       "      <th>date</th>\n",
       "      <th>daytype</th>\n",
       "      <th>rides</th>\n",
       "    </tr>\n",
       "  </thead>\n",
       "  <tbody>\n",
       "    <tr>\n",
       "      <th>36</th>\n",
       "      <td>40380</td>\n",
       "      <td>Clark/Lake</td>\n",
       "      <td>01/01/2001</td>\n",
       "      <td>U</td>\n",
       "      <td>1080</td>\n",
       "    </tr>\n",
       "  </tbody>\n",
       "</table>\n",
       "</div>"
      ],
      "text/plain": [
       "    station_id stationname        date daytype  rides\n",
       "36       40380  Clark/Lake  01/01/2001       U   1080"
      ]
     },
     "execution_count": 10,
     "metadata": {},
     "output_type": "execute_result"
    }
   ],
   "source": [
    "df.loc[df['station_id'] == 40380].head(1)"
   ]
  },
  {
   "cell_type": "markdown",
   "metadata": {},
   "source": [
    "# Clark/Lake has the highest daily average ridership \n",
    "\n",
    "Makes sense since all the lines transfer there"
   ]
  },
  {
   "cell_type": "code",
   "execution_count": 11,
   "metadata": {},
   "outputs": [
    {
     "data": {
      "text/html": [
       "<div>\n",
       "<style>\n",
       "    .dataframe thead tr:only-child th {\n",
       "        text-align: right;\n",
       "    }\n",
       "\n",
       "    .dataframe thead th {\n",
       "        text-align: left;\n",
       "    }\n",
       "\n",
       "    .dataframe tbody tr th {\n",
       "        vertical-align: top;\n",
       "    }\n",
       "</style>\n",
       "<table border=\"1\" class=\"dataframe\">\n",
       "  <thead>\n",
       "    <tr style=\"text-align: right;\">\n",
       "      <th></th>\n",
       "      <th>station_id</th>\n",
       "      <th>stationname</th>\n",
       "      <th>date</th>\n",
       "      <th>daytype</th>\n",
       "      <th>rides</th>\n",
       "    </tr>\n",
       "  </thead>\n",
       "  <tbody>\n",
       "    <tr>\n",
       "      <th>879571</th>\n",
       "      <td>41700</td>\n",
       "      <td>Washington/Wabash</td>\n",
       "      <td>11/26/2017</td>\n",
       "      <td>U</td>\n",
       "      <td>4122</td>\n",
       "    </tr>\n",
       "    <tr>\n",
       "      <th>879572</th>\n",
       "      <td>41700</td>\n",
       "      <td>Washington/Wabash</td>\n",
       "      <td>11/27/2017</td>\n",
       "      <td>W</td>\n",
       "      <td>10244</td>\n",
       "    </tr>\n",
       "    <tr>\n",
       "      <th>879573</th>\n",
       "      <td>41700</td>\n",
       "      <td>Washington/Wabash</td>\n",
       "      <td>11/28/2017</td>\n",
       "      <td>W</td>\n",
       "      <td>10505</td>\n",
       "    </tr>\n",
       "    <tr>\n",
       "      <th>879574</th>\n",
       "      <td>41700</td>\n",
       "      <td>Washington/Wabash</td>\n",
       "      <td>11/29/2017</td>\n",
       "      <td>W</td>\n",
       "      <td>10437</td>\n",
       "    </tr>\n",
       "    <tr>\n",
       "      <th>879575</th>\n",
       "      <td>41700</td>\n",
       "      <td>Washington/Wabash</td>\n",
       "      <td>11/30/2017</td>\n",
       "      <td>W</td>\n",
       "      <td>10653</td>\n",
       "    </tr>\n",
       "  </tbody>\n",
       "</table>\n",
       "</div>"
      ],
      "text/plain": [
       "        station_id        stationname        date daytype  rides\n",
       "879571       41700  Washington/Wabash  11/26/2017       U   4122\n",
       "879572       41700  Washington/Wabash  11/27/2017       W  10244\n",
       "879573       41700  Washington/Wabash  11/28/2017       W  10505\n",
       "879574       41700  Washington/Wabash  11/29/2017       W  10437\n",
       "879575       41700  Washington/Wabash  11/30/2017       W  10653"
      ]
     },
     "execution_count": 11,
     "metadata": {},
     "output_type": "execute_result"
    }
   ],
   "source": [
    "df.tail()"
   ]
  },
  {
   "cell_type": "code",
   "execution_count": 12,
   "metadata": {},
   "outputs": [
    {
     "data": {
      "text/plain": [
       "W    614609\n",
       "U    139955\n",
       "A    125012\n",
       "Name: daytype, dtype: int64"
      ]
     },
     "execution_count": 12,
     "metadata": {},
     "output_type": "execute_result"
    }
   ],
   "source": [
    "df.daytype.value_counts()"
   ]
  },
  {
   "cell_type": "code",
   "execution_count": 13,
   "metadata": {
    "collapsed": true
   },
   "outputs": [],
   "source": [
    "# \"W\" for Weekday, \"A\" for Saturday and \"U\" for Sunday/Holidays\n",
    "df_weekday = df.loc[df['daytype'] == 'W']"
   ]
  },
  {
   "cell_type": "code",
   "execution_count": 14,
   "metadata": {},
   "outputs": [
    {
     "data": {
      "text/plain": [
       "(614609, 5)"
      ]
     },
     "execution_count": 14,
     "metadata": {},
     "output_type": "execute_result"
    }
   ],
   "source": [
    "df_weekday.shape"
   ]
  },
  {
   "cell_type": "code",
   "execution_count": 15,
   "metadata": {
    "collapsed": true
   },
   "outputs": [],
   "source": [
    "# standard deviation by station on non-holiday weekdays\n",
    "df_std = df_weekday.groupby('station_id')['stationname', 'rides'].std().reset_index()"
   ]
  },
  {
   "cell_type": "code",
   "execution_count": 16,
   "metadata": {},
   "outputs": [
    {
     "data": {
      "text/html": [
       "<div>\n",
       "<style>\n",
       "    .dataframe thead tr:only-child th {\n",
       "        text-align: right;\n",
       "    }\n",
       "\n",
       "    .dataframe thead th {\n",
       "        text-align: left;\n",
       "    }\n",
       "\n",
       "    .dataframe tbody tr th {\n",
       "        vertical-align: top;\n",
       "    }\n",
       "</style>\n",
       "<table border=\"1\" class=\"dataframe\">\n",
       "  <thead>\n",
       "    <tr style=\"text-align: right;\">\n",
       "      <th></th>\n",
       "      <th>station_id</th>\n",
       "      <th>rides</th>\n",
       "    </tr>\n",
       "  </thead>\n",
       "  <tbody>\n",
       "    <tr>\n",
       "      <th>146</th>\n",
       "      <td>41700</td>\n",
       "      <td>4444.285216</td>\n",
       "    </tr>\n",
       "    <tr>\n",
       "      <th>142</th>\n",
       "      <td>41660</td>\n",
       "      <td>4404.533162</td>\n",
       "    </tr>\n",
       "    <tr>\n",
       "      <th>47</th>\n",
       "      <td>40500</td>\n",
       "      <td>3890.640503</td>\n",
       "    </tr>\n",
       "  </tbody>\n",
       "</table>\n",
       "</div>"
      ],
      "text/plain": [
       "     station_id        rides\n",
       "146       41700  4444.285216\n",
       "142       41660  4404.533162\n",
       "47        40500  3890.640503"
      ]
     },
     "execution_count": 16,
     "metadata": {},
     "output_type": "execute_result"
    }
   ],
   "source": [
    "df_std.sort_values('rides', ascending=False).head(3)"
   ]
  },
  {
   "cell_type": "code",
   "execution_count": 17,
   "metadata": {},
   "outputs": [
    {
     "data": {
      "text/html": [
       "<div>\n",
       "<style>\n",
       "    .dataframe thead tr:only-child th {\n",
       "        text-align: right;\n",
       "    }\n",
       "\n",
       "    .dataframe thead th {\n",
       "        text-align: left;\n",
       "    }\n",
       "\n",
       "    .dataframe tbody tr th {\n",
       "        vertical-align: top;\n",
       "    }\n",
       "</style>\n",
       "<table border=\"1\" class=\"dataframe\">\n",
       "  <thead>\n",
       "    <tr style=\"text-align: right;\">\n",
       "      <th></th>\n",
       "      <th>station_id</th>\n",
       "      <th>stationname</th>\n",
       "      <th>date</th>\n",
       "      <th>daytype</th>\n",
       "      <th>rides</th>\n",
       "    </tr>\n",
       "  </thead>\n",
       "  <tbody>\n",
       "    <tr>\n",
       "      <th>866350</th>\n",
       "      <td>41700</td>\n",
       "      <td>Washington/Wabash</td>\n",
       "      <td>08/01/2017</td>\n",
       "      <td>W</td>\n",
       "      <td>0</td>\n",
       "    </tr>\n",
       "  </tbody>\n",
       "</table>\n",
       "</div>"
      ],
      "text/plain": [
       "        station_id        stationname        date daytype  rides\n",
       "866350       41700  Washington/Wabash  08/01/2017       W      0"
      ]
     },
     "execution_count": 17,
     "metadata": {},
     "output_type": "execute_result"
    }
   ],
   "source": [
    "df.loc[df['station_id'] == 41700].head(1)"
   ]
  },
  {
   "cell_type": "code",
   "execution_count": 18,
   "metadata": {},
   "outputs": [
    {
     "data": {
      "text/html": [
       "<div>\n",
       "<style>\n",
       "    .dataframe thead tr:only-child th {\n",
       "        text-align: right;\n",
       "    }\n",
       "\n",
       "    .dataframe thead th {\n",
       "        text-align: left;\n",
       "    }\n",
       "\n",
       "    .dataframe tbody tr th {\n",
       "        vertical-align: top;\n",
       "    }\n",
       "</style>\n",
       "<table border=\"1\" class=\"dataframe\">\n",
       "  <thead>\n",
       "    <tr style=\"text-align: right;\">\n",
       "      <th></th>\n",
       "      <th>station_id</th>\n",
       "      <th>stationname</th>\n",
       "      <th>date</th>\n",
       "      <th>daytype</th>\n",
       "      <th>rides</th>\n",
       "    </tr>\n",
       "  </thead>\n",
       "  <tbody>\n",
       "    <tr>\n",
       "      <th>866377</th>\n",
       "      <td>41700</td>\n",
       "      <td>Washington/Wabash</td>\n",
       "      <td>08/28/2017</td>\n",
       "      <td>W</td>\n",
       "      <td>7</td>\n",
       "    </tr>\n",
       "    <tr>\n",
       "      <th>866378</th>\n",
       "      <td>41700</td>\n",
       "      <td>Washington/Wabash</td>\n",
       "      <td>08/29/2017</td>\n",
       "      <td>W</td>\n",
       "      <td>45</td>\n",
       "    </tr>\n",
       "    <tr>\n",
       "      <th>866379</th>\n",
       "      <td>41700</td>\n",
       "      <td>Washington/Wabash</td>\n",
       "      <td>08/30/2017</td>\n",
       "      <td>W</td>\n",
       "      <td>96</td>\n",
       "    </tr>\n",
       "    <tr>\n",
       "      <th>866380</th>\n",
       "      <td>41700</td>\n",
       "      <td>Washington/Wabash</td>\n",
       "      <td>08/31/2017</td>\n",
       "      <td>W</td>\n",
       "      <td>6244</td>\n",
       "    </tr>\n",
       "    <tr>\n",
       "      <th>870701</th>\n",
       "      <td>41700</td>\n",
       "      <td>Washington/Wabash</td>\n",
       "      <td>09/01/2017</td>\n",
       "      <td>W</td>\n",
       "      <td>6932</td>\n",
       "    </tr>\n",
       "  </tbody>\n",
       "</table>\n",
       "</div>"
      ],
      "text/plain": [
       "        station_id        stationname        date daytype  rides\n",
       "866377       41700  Washington/Wabash  08/28/2017       W      7\n",
       "866378       41700  Washington/Wabash  08/29/2017       W     45\n",
       "866379       41700  Washington/Wabash  08/30/2017       W     96\n",
       "866380       41700  Washington/Wabash  08/31/2017       W   6244\n",
       "870701       41700  Washington/Wabash  09/01/2017       W   6932"
      ]
     },
     "execution_count": 18,
     "metadata": {},
     "output_type": "execute_result"
    }
   ],
   "source": [
    "df.loc[(df['station_id'] == 41700) & (df['rides'] != 0)].head(5)"
   ]
  },
  {
   "cell_type": "markdown",
   "metadata": {},
   "source": [
    "# Washington/Wabash has the highest standard deviation on non-holiday weekdays\n",
    "\n",
    "It's was underconstruction and had no ridership during that time"
   ]
  },
  {
   "cell_type": "markdown",
   "metadata": {},
   "source": [
    "# Scenario\n",
    "\n",
    "Lets say Peets Coffee wants to expand in Chicago and is looking for new locations to start. L stations with high ridership is a good place to look since there would be a lot of pedestrian traffic. Let's take a look at this data and determine viable locations to open up a new shop."
   ]
  },
  {
   "cell_type": "code",
   "execution_count": 19,
   "metadata": {
    "collapsed": true
   },
   "outputs": [],
   "source": [
    "# subset the dataframe for only 2017\n",
    "df_2017 = df[df['date'].str.contains(\"2017\")].copy()"
   ]
  },
  {
   "cell_type": "code",
   "execution_count": 20,
   "metadata": {},
   "outputs": [
    {
     "data": {
      "text/html": [
       "<div>\n",
       "<style>\n",
       "    .dataframe thead tr:only-child th {\n",
       "        text-align: right;\n",
       "    }\n",
       "\n",
       "    .dataframe thead th {\n",
       "        text-align: left;\n",
       "    }\n",
       "\n",
       "    .dataframe tbody tr th {\n",
       "        vertical-align: top;\n",
       "    }\n",
       "</style>\n",
       "<table border=\"1\" class=\"dataframe\">\n",
       "  <thead>\n",
       "    <tr style=\"text-align: right;\">\n",
       "      <th></th>\n",
       "      <th>station_id</th>\n",
       "      <th>stationname</th>\n",
       "      <th>date</th>\n",
       "      <th>daytype</th>\n",
       "      <th>rides</th>\n",
       "    </tr>\n",
       "  </thead>\n",
       "  <tbody>\n",
       "    <tr>\n",
       "      <th>831358</th>\n",
       "      <td>40010</td>\n",
       "      <td>Austin-Forest Park</td>\n",
       "      <td>02/01/2017</td>\n",
       "      <td>W</td>\n",
       "      <td>2160</td>\n",
       "    </tr>\n",
       "    <tr>\n",
       "      <th>831359</th>\n",
       "      <td>40020</td>\n",
       "      <td>Harlem-Lake</td>\n",
       "      <td>02/01/2017</td>\n",
       "      <td>W</td>\n",
       "      <td>3810</td>\n",
       "    </tr>\n",
       "    <tr>\n",
       "      <th>831360</th>\n",
       "      <td>40030</td>\n",
       "      <td>Pulaski-Lake</td>\n",
       "      <td>02/01/2017</td>\n",
       "      <td>W</td>\n",
       "      <td>1543</td>\n",
       "    </tr>\n",
       "    <tr>\n",
       "      <th>831361</th>\n",
       "      <td>40040</td>\n",
       "      <td>Quincy/Wells</td>\n",
       "      <td>02/01/2017</td>\n",
       "      <td>W</td>\n",
       "      <td>8231</td>\n",
       "    </tr>\n",
       "    <tr>\n",
       "      <th>831362</th>\n",
       "      <td>40050</td>\n",
       "      <td>Davis</td>\n",
       "      <td>02/01/2017</td>\n",
       "      <td>W</td>\n",
       "      <td>3602</td>\n",
       "    </tr>\n",
       "  </tbody>\n",
       "</table>\n",
       "</div>"
      ],
      "text/plain": [
       "        station_id         stationname        date daytype  rides\n",
       "831358       40010  Austin-Forest Park  02/01/2017       W   2160\n",
       "831359       40020         Harlem-Lake  02/01/2017       W   3810\n",
       "831360       40030        Pulaski-Lake  02/01/2017       W   1543\n",
       "831361       40040        Quincy/Wells  02/01/2017       W   8231\n",
       "831362       40050               Davis  02/01/2017       W   3602"
      ]
     },
     "execution_count": 20,
     "metadata": {},
     "output_type": "execute_result"
    }
   ],
   "source": [
    "df_2017.head()"
   ]
  },
  {
   "cell_type": "code",
   "execution_count": 21,
   "metadata": {},
   "outputs": [
    {
     "data": {
      "text/html": [
       "<div>\n",
       "<style>\n",
       "    .dataframe thead tr:only-child th {\n",
       "        text-align: right;\n",
       "    }\n",
       "\n",
       "    .dataframe thead th {\n",
       "        text-align: left;\n",
       "    }\n",
       "\n",
       "    .dataframe tbody tr th {\n",
       "        vertical-align: top;\n",
       "    }\n",
       "</style>\n",
       "<table border=\"1\" class=\"dataframe\">\n",
       "  <thead>\n",
       "    <tr style=\"text-align: right;\">\n",
       "      <th></th>\n",
       "      <th>station_id</th>\n",
       "      <th>stationname</th>\n",
       "      <th>date</th>\n",
       "      <th>daytype</th>\n",
       "      <th>rides</th>\n",
       "    </tr>\n",
       "  </thead>\n",
       "  <tbody>\n",
       "    <tr>\n",
       "      <th>879571</th>\n",
       "      <td>41700</td>\n",
       "      <td>Washington/Wabash</td>\n",
       "      <td>11/26/2017</td>\n",
       "      <td>U</td>\n",
       "      <td>4122</td>\n",
       "    </tr>\n",
       "    <tr>\n",
       "      <th>879572</th>\n",
       "      <td>41700</td>\n",
       "      <td>Washington/Wabash</td>\n",
       "      <td>11/27/2017</td>\n",
       "      <td>W</td>\n",
       "      <td>10244</td>\n",
       "    </tr>\n",
       "    <tr>\n",
       "      <th>879573</th>\n",
       "      <td>41700</td>\n",
       "      <td>Washington/Wabash</td>\n",
       "      <td>11/28/2017</td>\n",
       "      <td>W</td>\n",
       "      <td>10505</td>\n",
       "    </tr>\n",
       "    <tr>\n",
       "      <th>879574</th>\n",
       "      <td>41700</td>\n",
       "      <td>Washington/Wabash</td>\n",
       "      <td>11/29/2017</td>\n",
       "      <td>W</td>\n",
       "      <td>10437</td>\n",
       "    </tr>\n",
       "    <tr>\n",
       "      <th>879575</th>\n",
       "      <td>41700</td>\n",
       "      <td>Washington/Wabash</td>\n",
       "      <td>11/30/2017</td>\n",
       "      <td>W</td>\n",
       "      <td>10653</td>\n",
       "    </tr>\n",
       "  </tbody>\n",
       "</table>\n",
       "</div>"
      ],
      "text/plain": [
       "        station_id        stationname        date daytype  rides\n",
       "879571       41700  Washington/Wabash  11/26/2017       U   4122\n",
       "879572       41700  Washington/Wabash  11/27/2017       W  10244\n",
       "879573       41700  Washington/Wabash  11/28/2017       W  10505\n",
       "879574       41700  Washington/Wabash  11/29/2017       W  10437\n",
       "879575       41700  Washington/Wabash  11/30/2017       W  10653"
      ]
     },
     "execution_count": 21,
     "metadata": {},
     "output_type": "execute_result"
    }
   ],
   "source": [
    "df_2017.tail()"
   ]
  },
  {
   "cell_type": "markdown",
   "metadata": {},
   "source": [
    "So the data is only from Feb 2017 to Nov 2017.\n",
    "\n",
    "We only care about non-holiday weekdays since those would be the days with the most business."
   ]
  },
  {
   "cell_type": "code",
   "execution_count": 22,
   "metadata": {
    "collapsed": true
   },
   "outputs": [],
   "source": [
    "df_2017 = df_2017.loc[df_2017['daytype'] == 'W']"
   ]
  },
  {
   "cell_type": "markdown",
   "metadata": {},
   "source": [
    "It's also important to see what stations have 0 rides and try to see if the site is under construction. These would skew results if we just took the average."
   ]
  },
  {
   "cell_type": "code",
   "execution_count": 23,
   "metadata": {},
   "outputs": [
    {
     "data": {
      "text/html": [
       "<div>\n",
       "<style>\n",
       "    .dataframe thead tr:only-child th {\n",
       "        text-align: right;\n",
       "    }\n",
       "\n",
       "    .dataframe thead th {\n",
       "        text-align: left;\n",
       "    }\n",
       "\n",
       "    .dataframe tbody tr th {\n",
       "        vertical-align: top;\n",
       "    }\n",
       "</style>\n",
       "<table border=\"1\" class=\"dataframe\">\n",
       "  <thead>\n",
       "    <tr style=\"text-align: right;\">\n",
       "      <th></th>\n",
       "      <th>stationname</th>\n",
       "      <th>rides</th>\n",
       "    </tr>\n",
       "    <tr>\n",
       "      <th>station_id</th>\n",
       "      <th></th>\n",
       "      <th></th>\n",
       "    </tr>\n",
       "  </thead>\n",
       "  <tbody>\n",
       "    <tr>\n",
       "      <th>40200</th>\n",
       "      <td>Randolph/Wabash</td>\n",
       "      <td>59</td>\n",
       "    </tr>\n",
       "    <tr>\n",
       "      <th>40640</th>\n",
       "      <td>Madison/Wabash</td>\n",
       "      <td>234</td>\n",
       "    </tr>\n",
       "    <tr>\n",
       "      <th>41700</th>\n",
       "      <td>Washington/Wabash</td>\n",
       "      <td>19</td>\n",
       "    </tr>\n",
       "  </tbody>\n",
       "</table>\n",
       "</div>"
      ],
      "text/plain": [
       "                  stationname  rides\n",
       "station_id                          \n",
       "40200         Randolph/Wabash     59\n",
       "40640          Madison/Wabash    234\n",
       "41700       Washington/Wabash     19"
      ]
     },
     "execution_count": 23,
     "metadata": {},
     "output_type": "execute_result"
    }
   ],
   "source": [
    "df_2017.loc[df_2017[\"rides\"] == 0].groupby('station_id').agg({'stationname': 'max', 'rides': 'count'})"
   ]
  },
  {
   "cell_type": "markdown",
   "metadata": {},
   "source": [
    "Might as well take a look into these"
   ]
  },
  {
   "cell_type": "code",
   "execution_count": 24,
   "metadata": {
    "collapsed": true
   },
   "outputs": [],
   "source": [
    "#convert to date into a python date object we can use\n",
    "df_2017['date_obj'] = pd.to_datetime(df_2017['date'])"
   ]
  },
  {
   "cell_type": "code",
   "execution_count": 25,
   "metadata": {
    "collapsed": true
   },
   "outputs": [],
   "source": [
    "df_2017 = df_2017[['station_id', 'stationname', 'date_obj', 'rides']]"
   ]
  },
  {
   "cell_type": "code",
   "execution_count": 26,
   "metadata": {},
   "outputs": [
    {
     "data": {
      "text/plain": [
       "<matplotlib.axes._subplots.AxesSubplot at 0x21b684f44e0>"
      ]
     },
     "execution_count": 26,
     "metadata": {},
     "output_type": "execute_result"
    },
    {
     "data": {
      "image/png": "[encoded data removed]",
      "text/plain": [
       "<matplotlib.figure.Figure at 0x21b684c96a0>"
      ]
     },
     "metadata": {},
     "output_type": "display_data"
    }
   ],
   "source": [
    "df_2017.loc[df_2017['station_id'] == 40200][['date_obj', 'rides']].set_index('date_obj').plot(title=\"Randolf/Wabash\", figsize=(15,8))"
   ]
  },
  {
   "cell_type": "code",
   "execution_count": 27,
   "metadata": {},
   "outputs": [
    {
     "data": {
      "text/plain": [
       "<matplotlib.axes._subplots.AxesSubplot at 0x21b68facf60>"
      ]
     },
     "execution_count": 27,
     "metadata": {},
     "output_type": "execute_result"
    },
    {
     "data": {
      "image/png": "[encoded data removed]",
      "text/plain": [
       "<matplotlib.figure.Figure at 0x21b684c9f98>"
      ]
     },
     "metadata": {},
     "output_type": "display_data"
    }
   ],
   "source": [
    "df_2017.loc[df_2017['station_id'] == 41700][['date_obj', 'rides']].set_index('date_obj').plot(title=\"Washington/Wabash\", figsize=(15,8))"
   ]
  },
  {
   "cell_type": "markdown",
   "metadata": {},
   "source": [
    "Taking a look at the 3 outliers, The Randolf & Washington stop looks like it's closed while the Washington & Wabash opened. We can dismiss the former while adjusting the average for the latter. The Madison & Wabash stop is also closed.\n",
    "\n",
    "Lets take a look at the highest average and std dev of the L stops in 2017."
   ]
  },
  {
   "cell_type": "code",
   "execution_count": 28,
   "metadata": {
    "collapsed": true
   },
   "outputs": [],
   "source": [
    "df_2017_avg = df_2017.groupby('station_id').agg({'stationname': 'max', 'rides': ['mean', 'std']})"
   ]
  },
  {
   "cell_type": "code",
   "execution_count": 29,
   "metadata": {},
   "outputs": [
    {
     "data": {
      "text/html": [
       "<div>\n",
       "<style>\n",
       "    .dataframe thead tr:only-child th {\n",
       "        text-align: right;\n",
       "    }\n",
       "\n",
       "    .dataframe thead th {\n",
       "        text-align: left;\n",
       "    }\n",
       "\n",
       "    .dataframe tbody tr th {\n",
       "        vertical-align: top;\n",
       "    }\n",
       "</style>\n",
       "<table border=\"1\" class=\"dataframe\">\n",
       "  <thead>\n",
       "    <tr>\n",
       "      <th></th>\n",
       "      <th>stationname</th>\n",
       "      <th colspan=\"2\" halign=\"left\">rides</th>\n",
       "    </tr>\n",
       "    <tr>\n",
       "      <th></th>\n",
       "      <th>max</th>\n",
       "      <th>mean</th>\n",
       "      <th>std</th>\n",
       "    </tr>\n",
       "    <tr>\n",
       "      <th>station_id</th>\n",
       "      <th></th>\n",
       "      <th></th>\n",
       "      <th></th>\n",
       "    </tr>\n",
       "  </thead>\n",
       "  <tbody>\n",
       "    <tr>\n",
       "      <th>40010</th>\n",
       "      <td>Austin-Forest Park</td>\n",
       "      <td>2039.303419</td>\n",
       "      <td>171.436439</td>\n",
       "    </tr>\n",
       "    <tr>\n",
       "      <th>40020</th>\n",
       "      <td>Harlem-Lake</td>\n",
       "      <td>3788.418803</td>\n",
       "      <td>257.761717</td>\n",
       "    </tr>\n",
       "    <tr>\n",
       "      <th>40030</th>\n",
       "      <td>Pulaski-Lake</td>\n",
       "      <td>1418.794872</td>\n",
       "      <td>110.014828</td>\n",
       "    </tr>\n",
       "    <tr>\n",
       "      <th>40040</th>\n",
       "      <td>Quincy/Wells</td>\n",
       "      <td>8203.299145</td>\n",
       "      <td>793.944899</td>\n",
       "    </tr>\n",
       "    <tr>\n",
       "      <th>40050</th>\n",
       "      <td>Davis</td>\n",
       "      <td>3706.790598</td>\n",
       "      <td>245.617054</td>\n",
       "    </tr>\n",
       "  </tbody>\n",
       "</table>\n",
       "</div>"
      ],
      "text/plain": [
       "                   stationname        rides            \n",
       "                           max         mean         std\n",
       "station_id                                             \n",
       "40010       Austin-Forest Park  2039.303419  171.436439\n",
       "40020              Harlem-Lake  3788.418803  257.761717\n",
       "40030             Pulaski-Lake  1418.794872  110.014828\n",
       "40040             Quincy/Wells  8203.299145  793.944899\n",
       "40050                    Davis  3706.790598  245.617054"
      ]
     },
     "execution_count": 29,
     "metadata": {},
     "output_type": "execute_result"
    }
   ],
   "source": [
    "df_2017_avg.head()"
   ]
  },
  {
   "cell_type": "code",
   "execution_count": 30,
   "metadata": {
    "collapsed": true
   },
   "outputs": [],
   "source": [
    "#too ugly, need to change that\n",
    "df_2017_avg.columns = ['stationname', 'rides_avg', 'rides_std']"
   ]
  },
  {
   "cell_type": "code",
   "execution_count": 31,
   "metadata": {},
   "outputs": [
    {
     "data": {
      "text/html": [
       "<div>\n",
       "<style>\n",
       "    .dataframe thead tr:only-child th {\n",
       "        text-align: right;\n",
       "    }\n",
       "\n",
       "    .dataframe thead th {\n",
       "        text-align: left;\n",
       "    }\n",
       "\n",
       "    .dataframe tbody tr th {\n",
       "        vertical-align: top;\n",
       "    }\n",
       "</style>\n",
       "<table border=\"1\" class=\"dataframe\">\n",
       "  <thead>\n",
       "    <tr style=\"text-align: right;\">\n",
       "      <th></th>\n",
       "      <th>stationname</th>\n",
       "      <th>rides_avg</th>\n",
       "      <th>rides_std</th>\n",
       "    </tr>\n",
       "    <tr>\n",
       "      <th>station_id</th>\n",
       "      <th></th>\n",
       "      <th></th>\n",
       "      <th></th>\n",
       "    </tr>\n",
       "  </thead>\n",
       "  <tbody>\n",
       "    <tr>\n",
       "      <th>41660</th>\n",
       "      <td>Lake/State</td>\n",
       "      <td>21587.235043</td>\n",
       "      <td>1617.643979</td>\n",
       "    </tr>\n",
       "    <tr>\n",
       "      <th>40380</th>\n",
       "      <td>Clark/Lake</td>\n",
       "      <td>21473.017094</td>\n",
       "      <td>1830.458272</td>\n",
       "    </tr>\n",
       "    <tr>\n",
       "      <th>41450</th>\n",
       "      <td>Chicago/State</td>\n",
       "      <td>15017.542735</td>\n",
       "      <td>1135.968941</td>\n",
       "    </tr>\n",
       "    <tr>\n",
       "      <th>40370</th>\n",
       "      <td>Washington/Dearborn</td>\n",
       "      <td>12987.923077</td>\n",
       "      <td>918.297227</td>\n",
       "    </tr>\n",
       "    <tr>\n",
       "      <th>41220</th>\n",
       "      <td>Fullerton</td>\n",
       "      <td>12585.243590</td>\n",
       "      <td>2396.856669</td>\n",
       "    </tr>\n",
       "    <tr>\n",
       "      <th>41320</th>\n",
       "      <td>Belmont-North Main</td>\n",
       "      <td>12262.354701</td>\n",
       "      <td>931.390556</td>\n",
       "    </tr>\n",
       "    <tr>\n",
       "      <th>40330</th>\n",
       "      <td>Grand/State</td>\n",
       "      <td>11920.418803</td>\n",
       "      <td>1458.931196</td>\n",
       "    </tr>\n",
       "    <tr>\n",
       "      <th>40890</th>\n",
       "      <td>O'Hare Airport</td>\n",
       "      <td>11350.076923</td>\n",
       "      <td>1659.576605</td>\n",
       "    </tr>\n",
       "    <tr>\n",
       "      <th>41400</th>\n",
       "      <td>Roosevelt</td>\n",
       "      <td>11280.252137</td>\n",
       "      <td>1256.460944</td>\n",
       "    </tr>\n",
       "    <tr>\n",
       "      <th>41090</th>\n",
       "      <td>Monroe/State</td>\n",
       "      <td>11258.829060</td>\n",
       "      <td>852.943118</td>\n",
       "    </tr>\n",
       "  </tbody>\n",
       "</table>\n",
       "</div>"
      ],
      "text/plain": [
       "                    stationname     rides_avg    rides_std\n",
       "station_id                                                \n",
       "41660                Lake/State  21587.235043  1617.643979\n",
       "40380                Clark/Lake  21473.017094  1830.458272\n",
       "41450             Chicago/State  15017.542735  1135.968941\n",
       "40370       Washington/Dearborn  12987.923077   918.297227\n",
       "41220                 Fullerton  12585.243590  2396.856669\n",
       "41320        Belmont-North Main  12262.354701   931.390556\n",
       "40330               Grand/State  11920.418803  1458.931196\n",
       "40890            O'Hare Airport  11350.076923  1659.576605\n",
       "41400                 Roosevelt  11280.252137  1256.460944\n",
       "41090              Monroe/State  11258.829060   852.943118"
      ]
     },
     "execution_count": 31,
     "metadata": {},
     "output_type": "execute_result"
    }
   ],
   "source": [
    "df_2017_avg.sort_values('rides_avg', ascending=False).head(10)"
   ]
  },
  {
   "cell_type": "code",
   "execution_count": 32,
   "metadata": {
    "collapsed": true
   },
   "outputs": [],
   "source": [
    "CTA_stations = pd.read_csv('CTA_station_info.csv')"
   ]
  },
  {
   "cell_type": "code",
   "execution_count": 33,
   "metadata": {},
   "outputs": [
    {
     "data": {
      "text/html": [
       "<div>\n",
       "<style>\n",
       "    .dataframe thead tr:only-child th {\n",
       "        text-align: right;\n",
       "    }\n",
       "\n",
       "    .dataframe thead th {\n",
       "        text-align: left;\n",
       "    }\n",
       "\n",
       "    .dataframe tbody tr th {\n",
       "        vertical-align: top;\n",
       "    }\n",
       "</style>\n",
       "<table border=\"1\" class=\"dataframe\">\n",
       "  <thead>\n",
       "    <tr style=\"text-align: right;\">\n",
       "      <th></th>\n",
       "      <th>STOP_ID</th>\n",
       "      <th>DIRECTION_ID</th>\n",
       "      <th>STOP_NAME</th>\n",
       "      <th>STATION_NAME</th>\n",
       "      <th>STATION_DESCRIPTIVE_NAME</th>\n",
       "      <th>MAP_ID</th>\n",
       "      <th>ADA</th>\n",
       "      <th>RED</th>\n",
       "      <th>BLUE</th>\n",
       "      <th>G</th>\n",
       "      <th>BRN</th>\n",
       "      <th>P</th>\n",
       "      <th>Pexp</th>\n",
       "      <th>Y</th>\n",
       "      <th>Pnk</th>\n",
       "      <th>O</th>\n",
       "      <th>Location</th>\n",
       "    </tr>\n",
       "  </thead>\n",
       "  <tbody>\n",
       "    <tr>\n",
       "      <th>88</th>\n",
       "      <td>30074</td>\n",
       "      <td>E</td>\n",
       "      <td>Clark/Lake (Inner Loop)</td>\n",
       "      <td>Clark/Lake</td>\n",
       "      <td>Clark/Lake (Blue, Brown, Green, Orange, Purple...</td>\n",
       "      <td>40380</td>\n",
       "      <td>True</td>\n",
       "      <td>False</td>\n",
       "      <td>False</td>\n",
       "      <td>True</td>\n",
       "      <td>False</td>\n",
       "      <td>False</td>\n",
       "      <td>True</td>\n",
       "      <td>False</td>\n",
       "      <td>True</td>\n",
       "      <td>True</td>\n",
       "      <td>(41.885737, -87.630886)</td>\n",
       "    </tr>\n",
       "    <tr>\n",
       "      <th>89</th>\n",
       "      <td>30075</td>\n",
       "      <td>W</td>\n",
       "      <td>Clark/Lake (Outer Loop)</td>\n",
       "      <td>Clark/Lake</td>\n",
       "      <td>Clark/Lake (Blue, Brown, Green, Orange, Purple...</td>\n",
       "      <td>40380</td>\n",
       "      <td>True</td>\n",
       "      <td>False</td>\n",
       "      <td>False</td>\n",
       "      <td>True</td>\n",
       "      <td>True</td>\n",
       "      <td>False</td>\n",
       "      <td>False</td>\n",
       "      <td>False</td>\n",
       "      <td>False</td>\n",
       "      <td>False</td>\n",
       "      <td>(41.885737, -87.630886)</td>\n",
       "    </tr>\n",
       "    <tr>\n",
       "      <th>90</th>\n",
       "      <td>30374</td>\n",
       "      <td>S</td>\n",
       "      <td>Clark/Lake (Forest Pk-bound)</td>\n",
       "      <td>Clark/Lake</td>\n",
       "      <td>Clark/Lake (Blue, Brown, Green, Orange, Purple...</td>\n",
       "      <td>40380</td>\n",
       "      <td>True</td>\n",
       "      <td>False</td>\n",
       "      <td>True</td>\n",
       "      <td>False</td>\n",
       "      <td>False</td>\n",
       "      <td>False</td>\n",
       "      <td>False</td>\n",
       "      <td>False</td>\n",
       "      <td>False</td>\n",
       "      <td>False</td>\n",
       "      <td>(41.885737, -87.630886)</td>\n",
       "    </tr>\n",
       "    <tr>\n",
       "      <th>91</th>\n",
       "      <td>30375</td>\n",
       "      <td>N</td>\n",
       "      <td>Clark/Lake (O'Hare-bound)</td>\n",
       "      <td>Clark/Lake</td>\n",
       "      <td>Clark/Lake (Blue, Brown, Green, Orange, Purple...</td>\n",
       "      <td>40380</td>\n",
       "      <td>True</td>\n",
       "      <td>False</td>\n",
       "      <td>True</td>\n",
       "      <td>False</td>\n",
       "      <td>False</td>\n",
       "      <td>False</td>\n",
       "      <td>False</td>\n",
       "      <td>False</td>\n",
       "      <td>False</td>\n",
       "      <td>False</td>\n",
       "      <td>(41.885737, -87.630886)</td>\n",
       "    </tr>\n",
       "  </tbody>\n",
       "</table>\n",
       "</div>"
      ],
      "text/plain": [
       "    STOP_ID DIRECTION_ID                     STOP_NAME STATION_NAME  \\\n",
       "88    30074            E       Clark/Lake (Inner Loop)   Clark/Lake   \n",
       "89    30075            W       Clark/Lake (Outer Loop)   Clark/Lake   \n",
       "90    30374            S  Clark/Lake (Forest Pk-bound)   Clark/Lake   \n",
       "91    30375            N     Clark/Lake (O'Hare-bound)   Clark/Lake   \n",
       "\n",
       "                             STATION_DESCRIPTIVE_NAME  MAP_ID   ADA    RED  \\\n",
       "88  Clark/Lake (Blue, Brown, Green, Orange, Purple...   40380  True  False   \n",
       "89  Clark/Lake (Blue, Brown, Green, Orange, Purple...   40380  True  False   \n",
       "90  Clark/Lake (Blue, Brown, Green, Orange, Purple...   40380  True  False   \n",
       "91  Clark/Lake (Blue, Brown, Green, Orange, Purple...   40380  True  False   \n",
       "\n",
       "     BLUE      G    BRN      P   Pexp      Y    Pnk      O  \\\n",
       "88  False   True  False  False   True  False   True   True   \n",
       "89  False   True   True  False  False  False  False  False   \n",
       "90   True  False  False  False  False  False  False  False   \n",
       "91   True  False  False  False  False  False  False  False   \n",
       "\n",
       "                   Location  \n",
       "88  (41.885737, -87.630886)  \n",
       "89  (41.885737, -87.630886)  \n",
       "90  (41.885737, -87.630886)  \n",
       "91  (41.885737, -87.630886)  "
      ]
     },
     "execution_count": 33,
     "metadata": {},
     "output_type": "execute_result"
    }
   ],
   "source": [
    "CTA_stations.loc[CTA_stations['MAP_ID'] == 40380]"
   ]
  },
  {
   "cell_type": "code",
   "execution_count": 34,
   "metadata": {
    "collapsed": true
   },
   "outputs": [],
   "source": [
    "top10 = df_2017_avg.sort_values('rides_avg', ascending=False).head(10)"
   ]
  },
  {
   "cell_type": "code",
   "execution_count": 35,
   "metadata": {},
   "outputs": [
    {
     "data": {
      "text/html": [
       "<div>\n",
       "<style>\n",
       "    .dataframe thead tr:only-child th {\n",
       "        text-align: right;\n",
       "    }\n",
       "\n",
       "    .dataframe thead th {\n",
       "        text-align: left;\n",
       "    }\n",
       "\n",
       "    .dataframe tbody tr th {\n",
       "        vertical-align: top;\n",
       "    }\n",
       "</style>\n",
       "<table border=\"1\" class=\"dataframe\">\n",
       "  <thead>\n",
       "    <tr style=\"text-align: right;\">\n",
       "      <th></th>\n",
       "      <th>stationname</th>\n",
       "      <th>rides_avg</th>\n",
       "      <th>rides_std</th>\n",
       "      <th>Location</th>\n",
       "    </tr>\n",
       "    <tr>\n",
       "      <th>station_id</th>\n",
       "      <th></th>\n",
       "      <th></th>\n",
       "      <th></th>\n",
       "      <th></th>\n",
       "    </tr>\n",
       "  </thead>\n",
       "  <tbody>\n",
       "    <tr>\n",
       "      <th>41660</th>\n",
       "      <td>Lake/State</td>\n",
       "      <td>21587.235043</td>\n",
       "      <td>1617.643979</td>\n",
       "      <td>(41.884809, -87.627813)</td>\n",
       "    </tr>\n",
       "    <tr>\n",
       "      <th>40380</th>\n",
       "      <td>Clark/Lake</td>\n",
       "      <td>21473.017094</td>\n",
       "      <td>1830.458272</td>\n",
       "      <td>(41.885737, -87.630886)</td>\n",
       "    </tr>\n",
       "    <tr>\n",
       "      <th>41450</th>\n",
       "      <td>Chicago/State</td>\n",
       "      <td>15017.542735</td>\n",
       "      <td>1135.968941</td>\n",
       "      <td>(41.896671, -87.628176)</td>\n",
       "    </tr>\n",
       "    <tr>\n",
       "      <th>40370</th>\n",
       "      <td>Washington/Dearborn</td>\n",
       "      <td>12987.923077</td>\n",
       "      <td>918.297227</td>\n",
       "      <td>(41.883164, -87.62944)</td>\n",
       "    </tr>\n",
       "    <tr>\n",
       "      <th>41220</th>\n",
       "      <td>Fullerton</td>\n",
       "      <td>12585.243590</td>\n",
       "      <td>2396.856669</td>\n",
       "      <td>(41.925051, -87.652866)</td>\n",
       "    </tr>\n",
       "    <tr>\n",
       "      <th>41320</th>\n",
       "      <td>Belmont-North Main</td>\n",
       "      <td>12262.354701</td>\n",
       "      <td>931.390556</td>\n",
       "      <td>(41.939751, -87.65338)</td>\n",
       "    </tr>\n",
       "    <tr>\n",
       "      <th>40330</th>\n",
       "      <td>Grand/State</td>\n",
       "      <td>11920.418803</td>\n",
       "      <td>1458.931196</td>\n",
       "      <td>(41.891665, -87.628021)</td>\n",
       "    </tr>\n",
       "    <tr>\n",
       "      <th>40890</th>\n",
       "      <td>O'Hare Airport</td>\n",
       "      <td>11350.076923</td>\n",
       "      <td>1659.576605</td>\n",
       "      <td>(41.97766526, -87.90422307)</td>\n",
       "    </tr>\n",
       "    <tr>\n",
       "      <th>41400</th>\n",
       "      <td>Roosevelt</td>\n",
       "      <td>11280.252137</td>\n",
       "      <td>1256.460944</td>\n",
       "      <td>(41.867405, -87.62659)</td>\n",
       "    </tr>\n",
       "    <tr>\n",
       "      <th>41090</th>\n",
       "      <td>Monroe/State</td>\n",
       "      <td>11258.829060</td>\n",
       "      <td>852.943118</td>\n",
       "      <td>(41.880745, -87.627696)</td>\n",
       "    </tr>\n",
       "  </tbody>\n",
       "</table>\n",
       "</div>"
      ],
      "text/plain": [
       "                    stationname     rides_avg    rides_std  \\\n",
       "station_id                                                   \n",
       "41660                Lake/State  21587.235043  1617.643979   \n",
       "40380                Clark/Lake  21473.017094  1830.458272   \n",
       "41450             Chicago/State  15017.542735  1135.968941   \n",
       "40370       Washington/Dearborn  12987.923077   918.297227   \n",
       "41220                 Fullerton  12585.243590  2396.856669   \n",
       "41320        Belmont-North Main  12262.354701   931.390556   \n",
       "40330               Grand/State  11920.418803  1458.931196   \n",
       "40890            O'Hare Airport  11350.076923  1659.576605   \n",
       "41400                 Roosevelt  11280.252137  1256.460944   \n",
       "41090              Monroe/State  11258.829060   852.943118   \n",
       "\n",
       "                               Location  \n",
       "station_id                               \n",
       "41660           (41.884809, -87.627813)  \n",
       "40380           (41.885737, -87.630886)  \n",
       "41450           (41.896671, -87.628176)  \n",
       "40370            (41.883164, -87.62944)  \n",
       "41220           (41.925051, -87.652866)  \n",
       "41320            (41.939751, -87.65338)  \n",
       "40330           (41.891665, -87.628021)  \n",
       "40890       (41.97766526, -87.90422307)  \n",
       "41400            (41.867405, -87.62659)  \n",
       "41090           (41.880745, -87.627696)  "
      ]
     },
     "execution_count": 35,
     "metadata": {},
     "output_type": "execute_result"
    }
   ],
   "source": [
    "top10.join(CTA_stations.groupby(\"MAP_ID\")['Location'].max())"
   ]
  },
  {
   "cell_type": "markdown",
   "metadata": {},
   "source": [
    "## Let's plot these coordinates on a map next to the current 9 Peets Locations in Chicago\n",
    "\n",
    "Link to the google map of CTA locations and Peets Locations:\n",
    "https://drive.google.com/open?id=1CaCvUY8ZrqoMeyWFsCUIE0YXpfS_aKQF&usp=sharing\n",
    "\n",
    "The Loop has the busiest L stations. While the Loop also contains some Peets Locations, they are several blocks away from the most popular L stops.\n",
    "\n",
    "![title](img/Peets_downtown.png)\n",
    "\n",
    "***\n",
    "The Loop and North Loop are viable locations for another shop but the area is already saturated with competitors. Here is Starbucks' footprint in the area. \n",
    "https://www.starbucks.com/store-locator?map=41.878715,-87.630632,15z&place=Chicago\n",
    "***\n",
    "\n",
    "![title](img/Starbucks_downtown.png)\n",
    "\n",
    "\n",
    "***\n",
    "It's going to be difficult to find an area that is not already filled with competition with Starbucks having over 150+ locations within Chicago. It would be better to expand the brand in areas where Peets is underrepresented, such as the north and northwest side.\n",
    "\n",
    "Here are 2 stops on the Red Line, Belmont and Fullerton, that made the top 10 of ridership in 2017.\n",
    "\n",
    "***\n",
    "![title](img/Peets_northside.png \"Peets Northside\")"
   ]
  },
  {
   "cell_type": "code",
   "execution_count": 36,
   "metadata": {},
   "outputs": [
    {
     "data": {
      "text/plain": [
       "<matplotlib.axes._subplots.AxesSubplot at 0x21b68fe72e8>"
      ]
     },
     "execution_count": 36,
     "metadata": {},
     "output_type": "execute_result"
    },
    {
     "data": {
      "image/png": "[encoded data removed]",
      "text/plain": [
       "<matplotlib.figure.Figure at 0x21b6907f0b8>"
      ]
     },
     "metadata": {},
     "output_type": "display_data"
    }
   ],
   "source": [
    "df_2017.loc[df_2017['station_id'] == 41220][['date_obj', 'rides']].set_index('date_obj').plot(title=\"Fullerton\", figsize=(15,8))"
   ]
  },
  {
   "cell_type": "markdown",
   "metadata": {},
   "source": [
    "***\n",
    "Expanding presence near Fullerton would be great due to the high volume of traffic in that area. Although it suffers drop off during the summer most likely due to Depaul students on summer break. \n",
    "***"
   ]
  },
  {
   "cell_type": "code",
   "execution_count": 37,
   "metadata": {},
   "outputs": [
    {
     "data": {
      "text/plain": [
       "<matplotlib.axes._subplots.AxesSubplot at 0x21b690b17b8>"
      ]
     },
     "execution_count": 37,
     "metadata": {},
     "output_type": "execute_result"
    },
    {
     "data": {
      "image/png": "[encoded data removed]",
      "text/plain": [
       "<matplotlib.figure.Figure at 0x21b68f6d0b8>"
      ]
     },
     "metadata": {},
     "output_type": "display_data"
    }
   ],
   "source": [
    "df_2017.loc[df_2017['station_id'] == 41320][['date_obj', 'rides']].set_index('date_obj').plot(title=\"Belmont-North\", figsize=(15,8))"
   ]
  },
  {
   "cell_type": "markdown",
   "metadata": {},
   "source": [
    "***\n",
    "Belmont is the next stop and also has high traffic without a low season. The large dips are due to Thanksgiving and Christmas Holidays. \n",
    "***\n"
   ]
  },
  {
   "cell_type": "markdown",
   "metadata": {},
   "source": [
    "### Another Location to explore is the Northwest side\n",
    "\n",
    "We just have to look at the blue line and ridership within those stations."
   ]
  },
  {
   "cell_type": "code",
   "execution_count": 38,
   "metadata": {
    "collapsed": true
   },
   "outputs": [],
   "source": [
    "blueline = df_2017_avg.join(CTA_stations.groupby(\"MAP_ID\")['BLUE'].max()).reset_index()"
   ]
  },
  {
   "cell_type": "code",
   "execution_count": 39,
   "metadata": {},
   "outputs": [
    {
     "data": {
      "text/html": [
       "<div>\n",
       "<style>\n",
       "    .dataframe thead tr:only-child th {\n",
       "        text-align: right;\n",
       "    }\n",
       "\n",
       "    .dataframe thead th {\n",
       "        text-align: left;\n",
       "    }\n",
       "\n",
       "    .dataframe tbody tr th {\n",
       "        vertical-align: top;\n",
       "    }\n",
       "</style>\n",
       "<table border=\"1\" class=\"dataframe\">\n",
       "  <thead>\n",
       "    <tr style=\"text-align: right;\">\n",
       "      <th></th>\n",
       "      <th>station_id</th>\n",
       "      <th>stationname</th>\n",
       "      <th>rides_avg</th>\n",
       "      <th>rides_std</th>\n",
       "      <th>BLUE</th>\n",
       "    </tr>\n",
       "  </thead>\n",
       "  <tbody>\n",
       "    <tr>\n",
       "      <th>36</th>\n",
       "      <td>40380</td>\n",
       "      <td>Clark/Lake</td>\n",
       "      <td>21473.017094</td>\n",
       "      <td>1830.458272</td>\n",
       "      <td>True</td>\n",
       "    </tr>\n",
       "    <tr>\n",
       "      <th>35</th>\n",
       "      <td>40370</td>\n",
       "      <td>Washington/Dearborn</td>\n",
       "      <td>12987.923077</td>\n",
       "      <td>918.297227</td>\n",
       "      <td>True</td>\n",
       "    </tr>\n",
       "    <tr>\n",
       "      <th>83</th>\n",
       "      <td>40890</td>\n",
       "      <td>O'Hare Airport</td>\n",
       "      <td>11350.076923</td>\n",
       "      <td>1659.576605</td>\n",
       "      <td>True</td>\n",
       "    </tr>\n",
       "    <tr>\n",
       "      <th>74</th>\n",
       "      <td>40790</td>\n",
       "      <td>Monroe/Dearborn</td>\n",
       "      <td>8398.645299</td>\n",
       "      <td>665.605045</td>\n",
       "      <td>True</td>\n",
       "    </tr>\n",
       "    <tr>\n",
       "      <th>6</th>\n",
       "      <td>40070</td>\n",
       "      <td>Jackson/Dearborn</td>\n",
       "      <td>7434.897436</td>\n",
       "      <td>787.414587</td>\n",
       "      <td>True</td>\n",
       "    </tr>\n",
       "    <tr>\n",
       "      <th>95</th>\n",
       "      <td>41020</td>\n",
       "      <td>Logan Square</td>\n",
       "      <td>7366.606838</td>\n",
       "      <td>487.048780</td>\n",
       "      <td>True</td>\n",
       "    </tr>\n",
       "    <tr>\n",
       "      <th>119</th>\n",
       "      <td>41280</td>\n",
       "      <td>Jefferson Park</td>\n",
       "      <td>6921.363248</td>\n",
       "      <td>430.748835</td>\n",
       "      <td>True</td>\n",
       "    </tr>\n",
       "    <tr>\n",
       "      <th>55</th>\n",
       "      <td>40590</td>\n",
       "      <td>Damen/Milwaukee</td>\n",
       "      <td>6753.918803</td>\n",
       "      <td>516.865891</td>\n",
       "      <td>True</td>\n",
       "    </tr>\n",
       "    <tr>\n",
       "      <th>77</th>\n",
       "      <td>40820</td>\n",
       "      <td>Rosemont</td>\n",
       "      <td>6501.290598</td>\n",
       "      <td>629.867076</td>\n",
       "      <td>True</td>\n",
       "    </tr>\n",
       "    <tr>\n",
       "      <th>30</th>\n",
       "      <td>40320</td>\n",
       "      <td>Division/Milwaukee</td>\n",
       "      <td>6211.341880</td>\n",
       "      <td>479.267380</td>\n",
       "      <td>True</td>\n",
       "    </tr>\n",
       "    <tr>\n",
       "      <th>33</th>\n",
       "      <td>40350</td>\n",
       "      <td>UIC-Halsted</td>\n",
       "      <td>6053.692308</td>\n",
       "      <td>2123.155816</td>\n",
       "      <td>True</td>\n",
       "    </tr>\n",
       "    <tr>\n",
       "      <th>53</th>\n",
       "      <td>40570</td>\n",
       "      <td>California/Milwaukee</td>\n",
       "      <td>5643.012821</td>\n",
       "      <td>408.246312</td>\n",
       "      <td>True</td>\n",
       "    </tr>\n",
       "    <tr>\n",
       "      <th>5</th>\n",
       "      <td>40060</td>\n",
       "      <td>Belmont-O'Hare</td>\n",
       "      <td>5635.807692</td>\n",
       "      <td>335.013768</td>\n",
       "      <td>True</td>\n",
       "    </tr>\n",
       "    <tr>\n",
       "      <th>62</th>\n",
       "      <td>40670</td>\n",
       "      <td>Western/Milwaukee</td>\n",
       "      <td>5386.794872</td>\n",
       "      <td>482.717523</td>\n",
       "      <td>True</td>\n",
       "    </tr>\n",
       "    <tr>\n",
       "      <th>21</th>\n",
       "      <td>40230</td>\n",
       "      <td>Cumberland</td>\n",
       "      <td>4753.179487</td>\n",
       "      <td>446.510997</td>\n",
       "      <td>True</td>\n",
       "    </tr>\n",
       "    <tr>\n",
       "      <th>51</th>\n",
       "      <td>40550</td>\n",
       "      <td>Irving Park-O'Hare</td>\n",
       "      <td>4368.572650</td>\n",
       "      <td>321.513503</td>\n",
       "      <td>True</td>\n",
       "    </tr>\n",
       "    <tr>\n",
       "      <th>130</th>\n",
       "      <td>41410</td>\n",
       "      <td>Chicago/Milwaukee</td>\n",
       "      <td>4295.132479</td>\n",
       "      <td>327.122983</td>\n",
       "      <td>True</td>\n",
       "    </tr>\n",
       "    <tr>\n",
       "      <th>40</th>\n",
       "      <td>40430</td>\n",
       "      <td>Clinton-Forest Park</td>\n",
       "      <td>3845.414530</td>\n",
       "      <td>269.946941</td>\n",
       "      <td>True</td>\n",
       "    </tr>\n",
       "    <tr>\n",
       "      <th>37</th>\n",
       "      <td>40390</td>\n",
       "      <td>Forest Park</td>\n",
       "      <td>3499.658120</td>\n",
       "      <td>267.877515</td>\n",
       "      <td>True</td>\n",
       "    </tr>\n",
       "    <tr>\n",
       "      <th>125</th>\n",
       "      <td>41340</td>\n",
       "      <td>LaSalle</td>\n",
       "      <td>3171.448718</td>\n",
       "      <td>397.002005</td>\n",
       "      <td>True</td>\n",
       "    </tr>\n",
       "    <tr>\n",
       "      <th>70</th>\n",
       "      <td>40750</td>\n",
       "      <td>Harlem-O'Hare</td>\n",
       "      <td>3002.042735</td>\n",
       "      <td>233.303184</td>\n",
       "      <td>True</td>\n",
       "    </tr>\n",
       "    <tr>\n",
       "      <th>115</th>\n",
       "      <td>41240</td>\n",
       "      <td>Addison-O'Hare</td>\n",
       "      <td>2985.196581</td>\n",
       "      <td>275.943928</td>\n",
       "      <td>True</td>\n",
       "    </tr>\n",
       "    <tr>\n",
       "      <th>46</th>\n",
       "      <td>40490</td>\n",
       "      <td>Grand/Milwaukee</td>\n",
       "      <td>2725.931624</td>\n",
       "      <td>247.010146</td>\n",
       "      <td>True</td>\n",
       "    </tr>\n",
       "    <tr>\n",
       "      <th>124</th>\n",
       "      <td>41330</td>\n",
       "      <td>Montrose-O'Hare</td>\n",
       "      <td>2651.794872</td>\n",
       "      <td>227.550571</td>\n",
       "      <td>True</td>\n",
       "    </tr>\n",
       "    <tr>\n",
       "      <th>76</th>\n",
       "      <td>40810</td>\n",
       "      <td>Medical Center</td>\n",
       "      <td>2573.611111</td>\n",
       "      <td>438.941008</td>\n",
       "      <td>True</td>\n",
       "    </tr>\n",
       "    <tr>\n",
       "      <th>44</th>\n",
       "      <td>40470</td>\n",
       "      <td>Racine</td>\n",
       "      <td>2213.158120</td>\n",
       "      <td>410.724750</td>\n",
       "      <td>True</td>\n",
       "    </tr>\n",
       "    <tr>\n",
       "      <th>0</th>\n",
       "      <td>40010</td>\n",
       "      <td>Austin-Forest Park</td>\n",
       "      <td>2039.303419</td>\n",
       "      <td>171.436439</td>\n",
       "      <td>True</td>\n",
       "    </tr>\n",
       "    <tr>\n",
       "      <th>23</th>\n",
       "      <td>40250</td>\n",
       "      <td>Kedzie-Homan-Forest Park</td>\n",
       "      <td>1971.854701</td>\n",
       "      <td>150.906518</td>\n",
       "      <td>True</td>\n",
       "    </tr>\n",
       "    <tr>\n",
       "      <th>16</th>\n",
       "      <td>40180</td>\n",
       "      <td>Oak Park-Forest Park</td>\n",
       "      <td>1882.888889</td>\n",
       "      <td>159.055381</td>\n",
       "      <td>True</td>\n",
       "    </tr>\n",
       "    <tr>\n",
       "      <th>86</th>\n",
       "      <td>40920</td>\n",
       "      <td>Pulaski-Forest Park</td>\n",
       "      <td>1725.047009</td>\n",
       "      <td>118.300056</td>\n",
       "      <td>True</td>\n",
       "    </tr>\n",
       "    <tr>\n",
       "      <th>20</th>\n",
       "      <td>40220</td>\n",
       "      <td>Western-Forest Park</td>\n",
       "      <td>1662.628205</td>\n",
       "      <td>188.661477</td>\n",
       "      <td>True</td>\n",
       "    </tr>\n",
       "    <tr>\n",
       "      <th>90</th>\n",
       "      <td>40970</td>\n",
       "      <td>Cicero-Forest Park</td>\n",
       "      <td>1395.051282</td>\n",
       "      <td>94.097643</td>\n",
       "      <td>True</td>\n",
       "    </tr>\n",
       "    <tr>\n",
       "      <th>91</th>\n",
       "      <td>40980</td>\n",
       "      <td>Harlem-Forest Park</td>\n",
       "      <td>1255.482906</td>\n",
       "      <td>120.451661</td>\n",
       "      <td>True</td>\n",
       "    </tr>\n",
       "  </tbody>\n",
       "</table>\n",
       "</div>"
      ],
      "text/plain": [
       "     station_id               stationname     rides_avg    rides_std  BLUE\n",
       "36        40380                Clark/Lake  21473.017094  1830.458272  True\n",
       "35        40370       Washington/Dearborn  12987.923077   918.297227  True\n",
       "83        40890            O'Hare Airport  11350.076923  1659.576605  True\n",
       "74        40790           Monroe/Dearborn   8398.645299   665.605045  True\n",
       "6         40070          Jackson/Dearborn   7434.897436   787.414587  True\n",
       "95        41020              Logan Square   7366.606838   487.048780  True\n",
       "119       41280            Jefferson Park   6921.363248   430.748835  True\n",
       "55        40590           Damen/Milwaukee   6753.918803   516.865891  True\n",
       "77        40820                  Rosemont   6501.290598   629.867076  True\n",
       "30        40320        Division/Milwaukee   6211.341880   479.267380  True\n",
       "33        40350               UIC-Halsted   6053.692308  2123.155816  True\n",
       "53        40570      California/Milwaukee   5643.012821   408.246312  True\n",
       "5         40060            Belmont-O'Hare   5635.807692   335.013768  True\n",
       "62        40670         Western/Milwaukee   5386.794872   482.717523  True\n",
       "21        40230                Cumberland   4753.179487   446.510997  True\n",
       "51        40550        Irving Park-O'Hare   4368.572650   321.513503  True\n",
       "130       41410         Chicago/Milwaukee   4295.132479   327.122983  True\n",
       "40        40430       Clinton-Forest Park   3845.414530   269.946941  True\n",
       "37        40390               Forest Park   3499.658120   267.877515  True\n",
       "125       41340                   LaSalle   3171.448718   397.002005  True\n",
       "70        40750             Harlem-O'Hare   3002.042735   233.303184  True\n",
       "115       41240            Addison-O'Hare   2985.196581   275.943928  True\n",
       "46        40490           Grand/Milwaukee   2725.931624   247.010146  True\n",
       "124       41330           Montrose-O'Hare   2651.794872   227.550571  True\n",
       "76        40810            Medical Center   2573.611111   438.941008  True\n",
       "44        40470                    Racine   2213.158120   410.724750  True\n",
       "0         40010        Austin-Forest Park   2039.303419   171.436439  True\n",
       "23        40250  Kedzie-Homan-Forest Park   1971.854701   150.906518  True\n",
       "16        40180      Oak Park-Forest Park   1882.888889   159.055381  True\n",
       "86        40920       Pulaski-Forest Park   1725.047009   118.300056  True\n",
       "20        40220       Western-Forest Park   1662.628205   188.661477  True\n",
       "90        40970        Cicero-Forest Park   1395.051282    94.097643  True\n",
       "91        40980        Harlem-Forest Park   1255.482906   120.451661  True"
      ]
     },
     "execution_count": 39,
     "metadata": {},
     "output_type": "execute_result"
    }
   ],
   "source": [
    "blueline.loc[blueline['BLUE'] == True].sort_values('rides_avg', ascending=False)"
   ]
  },
  {
   "cell_type": "code",
   "execution_count": 40,
   "metadata": {},
   "outputs": [
    {
     "data": {
      "text/html": [
       "<div>\n",
       "<style>\n",
       "    .dataframe thead tr:only-child th {\n",
       "        text-align: right;\n",
       "    }\n",
       "\n",
       "    .dataframe thead th {\n",
       "        text-align: left;\n",
       "    }\n",
       "\n",
       "    .dataframe tbody tr th {\n",
       "        vertical-align: top;\n",
       "    }\n",
       "</style>\n",
       "<table border=\"1\" class=\"dataframe\">\n",
       "  <thead>\n",
       "    <tr style=\"text-align: right;\">\n",
       "      <th></th>\n",
       "      <th>station_id</th>\n",
       "      <th>stationname</th>\n",
       "      <th>rides_avg</th>\n",
       "      <th>rides_std</th>\n",
       "      <th>BLUE</th>\n",
       "    </tr>\n",
       "  </thead>\n",
       "  <tbody>\n",
       "    <tr>\n",
       "      <th>95</th>\n",
       "      <td>41020</td>\n",
       "      <td>Logan Square</td>\n",
       "      <td>7366.606838</td>\n",
       "      <td>487.048780</td>\n",
       "      <td>True</td>\n",
       "    </tr>\n",
       "    <tr>\n",
       "      <th>119</th>\n",
       "      <td>41280</td>\n",
       "      <td>Jefferson Park</td>\n",
       "      <td>6921.363248</td>\n",
       "      <td>430.748835</td>\n",
       "      <td>True</td>\n",
       "    </tr>\n",
       "    <tr>\n",
       "      <th>55</th>\n",
       "      <td>40590</td>\n",
       "      <td>Damen/Milwaukee</td>\n",
       "      <td>6753.918803</td>\n",
       "      <td>516.865891</td>\n",
       "      <td>True</td>\n",
       "    </tr>\n",
       "    <tr>\n",
       "      <th>77</th>\n",
       "      <td>40820</td>\n",
       "      <td>Rosemont</td>\n",
       "      <td>6501.290598</td>\n",
       "      <td>629.867076</td>\n",
       "      <td>True</td>\n",
       "    </tr>\n",
       "    <tr>\n",
       "      <th>30</th>\n",
       "      <td>40320</td>\n",
       "      <td>Division/Milwaukee</td>\n",
       "      <td>6211.341880</td>\n",
       "      <td>479.267380</td>\n",
       "      <td>True</td>\n",
       "    </tr>\n",
       "  </tbody>\n",
       "</table>\n",
       "</div>"
      ],
      "text/plain": [
       "     station_id         stationname    rides_avg   rides_std  BLUE\n",
       "95        41020        Logan Square  7366.606838  487.048780  True\n",
       "119       41280      Jefferson Park  6921.363248  430.748835  True\n",
       "55        40590     Damen/Milwaukee  6753.918803  516.865891  True\n",
       "77        40820            Rosemont  6501.290598  629.867076  True\n",
       "30        40320  Division/Milwaukee  6211.341880  479.267380  True"
      ]
     },
     "execution_count": 40,
     "metadata": {},
     "output_type": "execute_result"
    }
   ],
   "source": [
    "#Get the top 5 blueline stops that weren't included before or in the loop\n",
    "## Just going to grab the index\n",
    "blueline.iloc[[95,119,55,77,30],:]"
   ]
  },
  {
   "cell_type": "markdown",
   "metadata": {},
   "source": [
    "***\n",
    "\n",
    "The traffic here is approximately half of what could be found in the loop but Peets has 0 presence here\n",
    "\n",
    "***"
   ]
  },
  {
   "cell_type": "code",
   "execution_count": 41,
   "metadata": {},
   "outputs": [
    {
     "data": {
      "text/html": [
       "<div>\n",
       "<style>\n",
       "    .dataframe thead tr:only-child th {\n",
       "        text-align: right;\n",
       "    }\n",
       "\n",
       "    .dataframe thead th {\n",
       "        text-align: left;\n",
       "    }\n",
       "\n",
       "    .dataframe tbody tr th {\n",
       "        vertical-align: top;\n",
       "    }\n",
       "</style>\n",
       "<table border=\"1\" class=\"dataframe\">\n",
       "  <thead>\n",
       "    <tr style=\"text-align: right;\">\n",
       "      <th></th>\n",
       "      <th>stationname</th>\n",
       "      <th>rides_avg</th>\n",
       "      <th>rides_std</th>\n",
       "    </tr>\n",
       "    <tr>\n",
       "      <th>station_id</th>\n",
       "      <th></th>\n",
       "      <th></th>\n",
       "      <th></th>\n",
       "    </tr>\n",
       "  </thead>\n",
       "  <tbody>\n",
       "    <tr>\n",
       "      <th>41660</th>\n",
       "      <td>Lake/State</td>\n",
       "      <td>21587.235043</td>\n",
       "      <td>1617.643979</td>\n",
       "    </tr>\n",
       "    <tr>\n",
       "      <th>40380</th>\n",
       "      <td>Clark/Lake</td>\n",
       "      <td>21473.017094</td>\n",
       "      <td>1830.458272</td>\n",
       "    </tr>\n",
       "    <tr>\n",
       "      <th>41450</th>\n",
       "      <td>Chicago/State</td>\n",
       "      <td>15017.542735</td>\n",
       "      <td>1135.968941</td>\n",
       "    </tr>\n",
       "    <tr>\n",
       "      <th>40370</th>\n",
       "      <td>Washington/Dearborn</td>\n",
       "      <td>12987.923077</td>\n",
       "      <td>918.297227</td>\n",
       "    </tr>\n",
       "    <tr>\n",
       "      <th>41220</th>\n",
       "      <td>Fullerton</td>\n",
       "      <td>12585.243590</td>\n",
       "      <td>2396.856669</td>\n",
       "    </tr>\n",
       "    <tr>\n",
       "      <th>41320</th>\n",
       "      <td>Belmont-North Main</td>\n",
       "      <td>12262.354701</td>\n",
       "      <td>931.390556</td>\n",
       "    </tr>\n",
       "    <tr>\n",
       "      <th>40330</th>\n",
       "      <td>Grand/State</td>\n",
       "      <td>11920.418803</td>\n",
       "      <td>1458.931196</td>\n",
       "    </tr>\n",
       "    <tr>\n",
       "      <th>40890</th>\n",
       "      <td>O'Hare Airport</td>\n",
       "      <td>11350.076923</td>\n",
       "      <td>1659.576605</td>\n",
       "    </tr>\n",
       "    <tr>\n",
       "      <th>41400</th>\n",
       "      <td>Roosevelt</td>\n",
       "      <td>11280.252137</td>\n",
       "      <td>1256.460944</td>\n",
       "    </tr>\n",
       "    <tr>\n",
       "      <th>41090</th>\n",
       "      <td>Monroe/State</td>\n",
       "      <td>11258.829060</td>\n",
       "      <td>852.943118</td>\n",
       "    </tr>\n",
       "    <tr>\n",
       "      <th>40260</th>\n",
       "      <td>State/Lake</td>\n",
       "      <td>10844.974359</td>\n",
       "      <td>1674.783483</td>\n",
       "    </tr>\n",
       "    <tr>\n",
       "      <th>40560</th>\n",
       "      <td>Jackson/State</td>\n",
       "      <td>10484.619658</td>\n",
       "      <td>1776.850494</td>\n",
       "    </tr>\n",
       "    <tr>\n",
       "      <th>40450</th>\n",
       "      <td>95th/Dan Ryan</td>\n",
       "      <td>10413.106838</td>\n",
       "      <td>686.707422</td>\n",
       "    </tr>\n",
       "    <tr>\n",
       "      <th>40930</th>\n",
       "      <td>Midway Airport</td>\n",
       "      <td>9013.965812</td>\n",
       "      <td>829.727288</td>\n",
       "    </tr>\n",
       "    <tr>\n",
       "      <th>41420</th>\n",
       "      <td>Addison-North Main</td>\n",
       "      <td>8957.367521</td>\n",
       "      <td>3967.776214</td>\n",
       "    </tr>\n",
       "    <tr>\n",
       "      <th>40680</th>\n",
       "      <td>Adams/Wabash</td>\n",
       "      <td>8862.376068</td>\n",
       "      <td>1001.898299</td>\n",
       "    </tr>\n",
       "    <tr>\n",
       "      <th>40790</th>\n",
       "      <td>Monroe/Dearborn</td>\n",
       "      <td>8398.645299</td>\n",
       "      <td>665.605045</td>\n",
       "    </tr>\n",
       "    <tr>\n",
       "      <th>40460</th>\n",
       "      <td>Merchandise Mart</td>\n",
       "      <td>8274.683761</td>\n",
       "      <td>894.563251</td>\n",
       "    </tr>\n",
       "    <tr>\n",
       "      <th>40730</th>\n",
       "      <td>Washington/Wells</td>\n",
       "      <td>8238.615385</td>\n",
       "      <td>766.942963</td>\n",
       "    </tr>\n",
       "    <tr>\n",
       "      <th>40040</th>\n",
       "      <td>Quincy/Wells</td>\n",
       "      <td>8203.299145</td>\n",
       "      <td>793.944899</td>\n",
       "    </tr>\n",
       "    <tr>\n",
       "      <th>40630</th>\n",
       "      <td>Clark/Division</td>\n",
       "      <td>7994.679487</td>\n",
       "      <td>594.341562</td>\n",
       "    </tr>\n",
       "    <tr>\n",
       "      <th>41700</th>\n",
       "      <td>Washington/Wabash</td>\n",
       "      <td>7461.360465</td>\n",
       "      <td>4444.285216</td>\n",
       "    </tr>\n",
       "    <tr>\n",
       "      <th>40070</th>\n",
       "      <td>Jackson/Dearborn</td>\n",
       "      <td>7434.897436</td>\n",
       "      <td>787.414587</td>\n",
       "    </tr>\n",
       "    <tr>\n",
       "      <th>41020</th>\n",
       "      <td>Logan Square</td>\n",
       "      <td>7366.606838</td>\n",
       "      <td>487.048780</td>\n",
       "    </tr>\n",
       "    <tr>\n",
       "      <th>40200</th>\n",
       "      <td>Randolph/Wabash</td>\n",
       "      <td>7186.692308</td>\n",
       "      <td>4399.646625</td>\n",
       "    </tr>\n",
       "    <tr>\n",
       "      <th>40710</th>\n",
       "      <td>Chicago/Franklin</td>\n",
       "      <td>6925.380342</td>\n",
       "      <td>610.969823</td>\n",
       "    </tr>\n",
       "    <tr>\n",
       "      <th>41280</th>\n",
       "      <td>Jefferson Park</td>\n",
       "      <td>6921.363248</td>\n",
       "      <td>430.748835</td>\n",
       "    </tr>\n",
       "    <tr>\n",
       "      <th>40240</th>\n",
       "      <td>79th</td>\n",
       "      <td>6863.615385</td>\n",
       "      <td>394.543890</td>\n",
       "    </tr>\n",
       "    <tr>\n",
       "      <th>40590</th>\n",
       "      <td>Damen/Milwaukee</td>\n",
       "      <td>6753.918803</td>\n",
       "      <td>516.865891</td>\n",
       "    </tr>\n",
       "    <tr>\n",
       "      <th>40820</th>\n",
       "      <td>Rosemont</td>\n",
       "      <td>6501.290598</td>\n",
       "      <td>629.867076</td>\n",
       "    </tr>\n",
       "    <tr>\n",
       "      <th>40320</th>\n",
       "      <td>Division/Milwaukee</td>\n",
       "      <td>6211.341880</td>\n",
       "      <td>479.267380</td>\n",
       "    </tr>\n",
       "  </tbody>\n",
       "</table>\n",
       "</div>"
      ],
      "text/plain": [
       "                    stationname     rides_avg    rides_std\n",
       "station_id                                                \n",
       "41660                Lake/State  21587.235043  1617.643979\n",
       "40380                Clark/Lake  21473.017094  1830.458272\n",
       "41450             Chicago/State  15017.542735  1135.968941\n",
       "40370       Washington/Dearborn  12987.923077   918.297227\n",
       "41220                 Fullerton  12585.243590  2396.856669\n",
       "41320        Belmont-North Main  12262.354701   931.390556\n",
       "40330               Grand/State  11920.418803  1458.931196\n",
       "40890            O'Hare Airport  11350.076923  1659.576605\n",
       "41400                 Roosevelt  11280.252137  1256.460944\n",
       "41090              Monroe/State  11258.829060   852.943118\n",
       "40260                State/Lake  10844.974359  1674.783483\n",
       "40560             Jackson/State  10484.619658  1776.850494\n",
       "40450             95th/Dan Ryan  10413.106838   686.707422\n",
       "40930            Midway Airport   9013.965812   829.727288\n",
       "41420        Addison-North Main   8957.367521  3967.776214\n",
       "40680              Adams/Wabash   8862.376068  1001.898299\n",
       "40790           Monroe/Dearborn   8398.645299   665.605045\n",
       "40460          Merchandise Mart   8274.683761   894.563251\n",
       "40730          Washington/Wells   8238.615385   766.942963\n",
       "40040              Quincy/Wells   8203.299145   793.944899\n",
       "40630            Clark/Division   7994.679487   594.341562\n",
       "41700         Washington/Wabash   7461.360465  4444.285216\n",
       "40070          Jackson/Dearborn   7434.897436   787.414587\n",
       "41020              Logan Square   7366.606838   487.048780\n",
       "40200           Randolph/Wabash   7186.692308  4399.646625\n",
       "40710          Chicago/Franklin   6925.380342   610.969823\n",
       "41280            Jefferson Park   6921.363248   430.748835\n",
       "40240                      79th   6863.615385   394.543890\n",
       "40590           Damen/Milwaukee   6753.918803   516.865891\n",
       "40820                  Rosemont   6501.290598   629.867076\n",
       "40320        Division/Milwaukee   6211.341880   479.267380"
      ]
     },
     "execution_count": 41,
     "metadata": {},
     "output_type": "execute_result"
    }
   ],
   "source": [
    "#compare them the all the L stations\n",
    "df_2017_avg.sort_values('rides_avg', ascending=False).head(31)"
   ]
  },
  {
   "cell_type": "code",
   "execution_count": 42,
   "metadata": {},
   "outputs": [
    {
     "data": {
      "text/plain": [
       "(145, 3)"
      ]
     },
     "execution_count": 42,
     "metadata": {},
     "output_type": "execute_result"
    }
   ],
   "source": [
    "df_2017_avg.shape"
   ]
  },
  {
   "cell_type": "markdown",
   "metadata": {},
   "source": [
    "***\n",
    "These stations are still in the top 31 of 145 for ridership in 2017\n",
    "***"
   ]
  },
  {
   "cell_type": "code",
   "execution_count": 43,
   "metadata": {},
   "outputs": [
    {
     "data": {
      "text/html": [
       "<div>\n",
       "<style>\n",
       "    .dataframe thead tr:only-child th {\n",
       "        text-align: right;\n",
       "    }\n",
       "\n",
       "    .dataframe thead th {\n",
       "        text-align: left;\n",
       "    }\n",
       "\n",
       "    .dataframe tbody tr th {\n",
       "        vertical-align: top;\n",
       "    }\n",
       "</style>\n",
       "<table border=\"1\" class=\"dataframe\">\n",
       "  <thead>\n",
       "    <tr style=\"text-align: right;\">\n",
       "      <th></th>\n",
       "      <th>stationname</th>\n",
       "      <th>rides_avg</th>\n",
       "      <th>rides_std</th>\n",
       "      <th>BLUE</th>\n",
       "      <th>Location</th>\n",
       "    </tr>\n",
       "    <tr>\n",
       "      <th>station_id</th>\n",
       "      <th></th>\n",
       "      <th></th>\n",
       "      <th></th>\n",
       "      <th></th>\n",
       "      <th></th>\n",
       "    </tr>\n",
       "  </thead>\n",
       "  <tbody>\n",
       "    <tr>\n",
       "      <th>41020</th>\n",
       "      <td>Logan Square</td>\n",
       "      <td>7366.606838</td>\n",
       "      <td>487.048780</td>\n",
       "      <td>True</td>\n",
       "      <td>(41.929728, -87.708541)</td>\n",
       "    </tr>\n",
       "    <tr>\n",
       "      <th>41280</th>\n",
       "      <td>Jefferson Park</td>\n",
       "      <td>6921.363248</td>\n",
       "      <td>430.748835</td>\n",
       "      <td>True</td>\n",
       "      <td>(41.970634, -87.760892)</td>\n",
       "    </tr>\n",
       "    <tr>\n",
       "      <th>40590</th>\n",
       "      <td>Damen/Milwaukee</td>\n",
       "      <td>6753.918803</td>\n",
       "      <td>516.865891</td>\n",
       "      <td>True</td>\n",
       "      <td>(41.909744, -87.677437)</td>\n",
       "    </tr>\n",
       "    <tr>\n",
       "      <th>40320</th>\n",
       "      <td>Division/Milwaukee</td>\n",
       "      <td>6211.341880</td>\n",
       "      <td>479.267380</td>\n",
       "      <td>True</td>\n",
       "      <td>(41.903355, -87.666496)</td>\n",
       "    </tr>\n",
       "  </tbody>\n",
       "</table>\n",
       "</div>"
      ],
      "text/plain": [
       "                   stationname    rides_avg   rides_std  BLUE  \\\n",
       "station_id                                                      \n",
       "41020             Logan Square  7366.606838  487.048780  True   \n",
       "41280           Jefferson Park  6921.363248  430.748835  True   \n",
       "40590          Damen/Milwaukee  6753.918803  516.865891  True   \n",
       "40320       Division/Milwaukee  6211.341880  479.267380  True   \n",
       "\n",
       "                           Location  \n",
       "station_id                           \n",
       "41020       (41.929728, -87.708541)  \n",
       "41280       (41.970634, -87.760892)  \n",
       "40590       (41.909744, -87.677437)  \n",
       "40320       (41.903355, -87.666496)  "
      ]
     },
     "execution_count": 43,
     "metadata": {},
     "output_type": "execute_result"
    }
   ],
   "source": [
    "# Omitting Rosemont since that is a transit station\n",
    "## Need the coordinates\n",
    "blueline.iloc[[95,119,55,30],:].set_index('station_id').join(CTA_stations.groupby(\"MAP_ID\")['Location'].max())"
   ]
  },
  {
   "cell_type": "markdown",
   "metadata": {},
   "source": [
    "***\n",
    "Let's zoom out and see where these are in relation to the Peet's footprint in Chicago\n",
    "***\n",
    "\n",
    "![title](img/northwest.png)"
   ]
  },
  {
   "cell_type": "markdown",
   "metadata": {},
   "source": [
    "## Summary\n",
    "\n",
    "This workbook began exploring possible expansions for Peets Coffee within Chicago (airports excluded) using data from CTA L ridership. An option that I thought of while making this was to scrape review sites like Yelp or Google reviews to find which neighborhoods or blocks that would be open to another coffee option. Ideally, I would visualize that data by overlaying a heatmap over Chicago showing viability determined by pedestrian traffic, poor reviews from competition, and proximity to caffeine addicts.  "
   ]
  },
  {
   "cell_type": "code",
   "execution_count": null,
   "metadata": {
    "collapsed": true
   },
   "outputs": [],
   "source": []
  }
 ],
 "metadata": {
  "kernelspec": {
   "display_name": "Python 3",
   "language": "python",
   "name": "python3"
  },
  "language_info": {
   "codemirror_mode": {
    "name": "ipython",
    "version": 3
   },
   "file_extension": ".py",
   "mimetype": "text/x-python",
   "name": "python",
   "nbconvert_exporter": "python",
   "pygments_lexer": "ipython3",
   "version": "3.6.1"
  }
 },
 "nbformat": 4,
 "nbformat_minor": 2
}
